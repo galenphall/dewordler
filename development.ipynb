{
 "cells": [
  {
   "cell_type": "code",
   "execution_count": 1,
   "metadata": {},
   "outputs": [
    {
     "name": "stderr",
     "output_type": "stream",
     "text": [
      "<ipython-input-1-8e71e1173200>:5: TqdmExperimentalWarning: Using `tqdm.autonotebook.tqdm` in notebook mode. Use `tqdm.tqdm` instead to force console mode (e.g. in jupyter console)\n",
      "  from tqdm.autonotebook import tqdm\n"
     ]
    }
   ],
   "source": [
    "import numpy as np\n",
    "import pandas as pd\n",
    "from itertools import combinations_with_replacement, combinations\n",
    "from words import words, answers\n",
    "from tqdm.autonotebook import tqdm"
   ]
  },
  {
   "cell_type": "code",
   "execution_count": null,
   "metadata": {},
   "outputs": [],
   "source": [
    "def combinations(items, n):\n",
    "    \n",
    "    sequences = ['']\n",
    "    \n",
    "    for i in range(n):\n",
    "        \n",
    "        newseqs = []\n",
    "        \n",
    "        for seq in sequences:\n",
    "            \n",
    "            for it in items:\n",
    "                \n",
    "                newseqs.append(seq + it)\n",
    "                \n",
    "        sequences = newseqs.copy()\n",
    "        \n",
    "    return sequences\n",
    "        \n",
    "outcomes = combinations('gyb', 5)"
   ]
  },
  {
   "cell_type": "code",
   "execution_count": 3,
   "metadata": {},
   "outputs": [],
   "source": [
    "def allowed_by(guess, outcome, words):\n",
    "    \n",
    "    A = np.array([[l for l in w] for w in words])\n",
    "    G = np.array([l for l in guess])\n",
    "    O = np.array([l for l in outcome])\n",
    "\n",
    "    for idx in range(5):\n",
    "        # filter for greens first\n",
    "        if O[idx] == 'g':\n",
    "            A = A[(A[:, idx] == G[idx])]\n",
    "        elif O[idx] == 'y':\n",
    "            A = A[(A[:, idx] != G[idx]) & (A == G[idx]).max(1)]\n",
    "        else:\n",
    "            # avoid removing letters in case where a green letter also shows up grey elsewhere\n",
    "            non_greens = np.arange(5)[~((O == 'g') & (G == G[idx]))] \n",
    "            A = A[(A[:, non_greens] != G[idx]).min(1)]\n",
    "            \n",
    "    return A\n",
    "\n",
    "def expected_information(guess, outcome, words):\n",
    "    \n",
    "    p = len(allowed_by(guess, outcome, words)) / len(words)\n",
    "    \n",
    "    if p == 0:\n",
    "        return 0\n",
    "    else:\n",
    "        return - p * np.log2(p)\n",
    "\n",
    "def entropy(guess, words):\n",
    "    \n",
    "    return sum(expected_information(guess, outcome, words) for outcome in outcomes)"
   ]
  },
  {
   "cell_type": "code",
   "execution_count": null,
   "metadata": {},
   "outputs": [
    {
     "data": {
      "application/vnd.jupyter.widget-view+json": {
       "model_id": "914f08659d294925b729fdcf92bdd619",
       "version_major": 2,
       "version_minor": 0
      },
      "text/plain": [
       "HBox(children=(FloatProgress(value=0.0, max=10657.0), HTML(value='')))"
      ]
     },
     "metadata": {},
     "output_type": "display_data"
    }
   ],
   "source": [
    "first_level_entropies = {g: entropy(g, answers) for g in tqdm(words)}"
   ]
  },
  {
   "cell_type": "code",
   "execution_count": 73,
   "metadata": {},
   "outputs": [
    {
     "data": {
      "text/plain": [
       "array([], dtype=int64)"
      ]
     },
     "execution_count": 73,
     "metadata": {},
     "output_type": "execute_result"
    }
   ],
   "source": [
    "np.arange(5)[[False]*5]"
   ]
  },
  {
   "cell_type": "code",
   "execution_count": 72,
   "metadata": {},
   "outputs": [
    {
     "data": {
      "text/plain": [
       "[0]"
      ]
     },
     "execution_count": 72,
     "metadata": {},
     "output_type": "execute_result"
    }
   ],
   "source": [
    "[False*5]"
   ]
  },
  {
   "cell_type": "code",
   "execution_count": null,
   "metadata": {},
   "outputs": [],
   "source": []
  }
 ],
 "metadata": {
  "kernelspec": {
   "display_name": "Python 3",
   "language": "python",
   "name": "python3"
  },
  "language_info": {
   "codemirror_mode": {
    "name": "ipython",
    "version": 3
   },
   "file_extension": ".py",
   "mimetype": "text/x-python",
   "name": "python",
   "nbconvert_exporter": "python",
   "pygments_lexer": "ipython3",
   "version": "3.8.3"
  }
 },
 "nbformat": 4,
 "nbformat_minor": 4
}
